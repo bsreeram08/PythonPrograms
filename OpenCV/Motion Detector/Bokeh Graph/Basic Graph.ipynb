{
 "cells": [
  {
   "cell_type": "code",
   "execution_count": 10,
   "metadata": {},
   "outputs": [],
   "source": [
    "#making a basic bokeh graph \n",
    "\n",
    "#importing Bokeh\n",
    "from bokeh.plotting import figure\n",
    "from bokeh.io import output_file, show\n",
    "\n",
    "#prepare some data\n",
    "x=[1,2,3,4,5] #x axis\n",
    "y=[6,7,8,8,10] #y axis\n",
    "#ensure both has no of inputs\n",
    "\n",
    "#prepare the output file\n",
    "output_file(\"Line.html\")\n",
    "\n",
    "#creating figure object\n",
    "f=figure() \n",
    "\n",
    "#create line plot\n",
    "f.triangle(x,y)\n",
    "f.line(x,y)\n",
    "\n",
    "#to show the figure oobject\n",
    "show(f)"
   ]
  },
  {
   "cell_type": "code",
   "execution_count": 12,
   "metadata": {},
   "outputs": [],
   "source": [
    "#making a basic bokeh graph \n",
    "\n",
    "#importing Bokeh\n",
    "from bokeh.plotting import figure\n",
    "from bokeh.io import output_file, show\n",
    "import pandas\n",
    "#prepare some data\n",
    "df=pandas.read_csv(\"Times.csv\")\n",
    "x=df[\"Year\"] #x axis\n",
    "y=df[\"Engineering\"] #y axis\n",
    "#ensure both has no of inputs\n",
    "\n",
    "#prepare the output file\n",
    "output_file(\"Bachelors.html\")\n",
    "\n",
    "#creating figure object\n",
    "f=figure() \n",
    "\n",
    "#create line plot\n",
    "f.circle(x,y)\n",
    "f.line(x,y)\n",
    "\n",
    "#to show the figure oobject\n",
    "show(f)"
   ]
  },
  {
   "cell_type": "code",
   "execution_count": 14,
   "metadata": {},
   "outputs": [],
   "source": [
    "import pandas\n",
    "from bokeh.plotting import figure, output_file, show\n",
    " \n",
    "df=pandas.read_excel(\"verlegenhuken.xlsx\",sheet_name=0)\n",
    "df[\"Temperature\"]=df[\"Temperature\"]/10\n",
    "df[\"Pressure\"]=df[\"Pressure\"]/10\n",
    "p=figure(plot_width=500,plot_height=400, tools='pan',logo=None)\n",
    "    \n",
    "p.title.text=\"Temperature And Air Pressure\"\n",
    "p.title.text_color=\"Gray\"\n",
    "p.title.text_font=\"times\"\n",
    "p.title.text_font_style=\"bold\"\n",
    "p.xaxis.minor_tick_line_color=None\n",
    "p.yaxis.minor_tick_line_color=None\n",
    "p.xaxis.axis_label=\"Temperature (°C)\"\n",
    "p.yaxis.axis_label=\"Pressure (hPa)\"    \n",
    " \n",
    "p.circle(df[\"Temperature\"],df[\"Pressure\"],size=0.5)\n",
    "output_file(\"Weather.html\")\n",
    "show(p)"
   ]
  },
  {
   "cell_type": "code",
   "execution_count": 15,
   "metadata": {},
   "outputs": [],
   "source": [
    "from bokeh.plotting import figure, output_file, show\n",
    "p = figure(plot_width=500, plot_height=400, tools = 'pan, reset', logo=None)\n",
    "p.title.text = \"Earthquakes\"\n",
    "p.title.text_color = \"Orange\"\n",
    "p.title.text_font = \"times\"\n",
    "p.title.text_font_style = \"italic\"\n",
    "p.yaxis.minor_tick_line_color = \"Yellow\"\n",
    "p.xaxis.axis_label = \"Times\"\n",
    "p.yaxis.axis_label = \"Value\"\n",
    "p.circle([1,2,3,4,5], [5,6,5,5,3], size = [i*2 for i in [8,12,14,15,20]], color=\"red\", alpha=0.5)\n",
    "output_file(\"Scatter_plotting.html\")\n",
    "show(p)"
   ]
  },
  {
   "cell_type": "code",
   "execution_count": 25,
   "metadata": {},
   "outputs": [],
   "source": [
    "from bokeh.plotting import figure, output_file, show\n",
    "import pandas\n",
    "\n",
    "df=pandas.read_csv(\"adbe1.csv\",parse_dates=[\"Date\"])\n",
    "p=figure(width=500,height=250,x_axis_type=\"datetime\",sizing_mode='scale_width')\n",
    "\n",
    "p.line(df[\"Date\"],df[\"Close\"],color=\"Orange\",alpha=0.5)\n",
    "\n",
    "output_file(\"Timeseries.html\")\n",
    "show(p)\n"
   ]
  },
  {
   "cell_type": "code",
   "execution_count": null,
   "metadata": {},
   "outputs": [],
   "source": []
  },
  {
   "cell_type": "code",
   "execution_count": null,
   "metadata": {},
   "outputs": [],
   "source": []
  }
 ],
 "metadata": {
  "kernelspec": {
   "display_name": "Python 3",
   "language": "python",
   "name": "python3"
  },
  "language_info": {
   "codemirror_mode": {
    "name": "ipython",
    "version": 3
   },
   "file_extension": ".py",
   "mimetype": "text/x-python",
   "name": "python",
   "nbconvert_exporter": "python",
   "pygments_lexer": "ipython3",
   "version": "3.6.5"
  }
 },
 "nbformat": 4,
 "nbformat_minor": 2
}
