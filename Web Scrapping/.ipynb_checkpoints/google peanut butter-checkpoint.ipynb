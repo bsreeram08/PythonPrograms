{
 "cells": [
  {
   "cell_type": "code",
   "execution_count": 1,
   "metadata": {},
   "outputs": [],
   "source": [
    "import requests\n",
    "from bs4 import BeautifulSoup"
   ]
  },
  {
   "cell_type": "code",
   "execution_count": 35,
   "metadata": {},
   "outputs": [
    {
     "name": "stdout",
     "output_type": "stream",
     "text": [
      "8 Health Benefits Of Peanut Butter | Care2 Healthy Living\n",
      "\n",
      "/url?q=https://www.care2.com/greenliving/8-health-benefits-of-peanut-butter.html&sa=U&ved=0ahUKEwjZz7CJ3N7eAhVMs48KHQIFAJ4QFggTMAA&usg=AOvVaw0bJJBeOZ1SKxUQQetVoLal\n",
      "\n",
      "\n",
      "EAT | Homemade Peanut Butter - YouTube\n",
      "\n",
      "/url?q=https://www.youtube.com/watch%3Fv%3DwOmIYNIeaSY&sa=U&ved=0ahUKEwjZz7CJ3N7eAhVMs48KHQIFAJ4QtwIIGTAB&usg=AOvVaw26DbXpsAGi8keVb20fNesU\n",
      "\n",
      "\n",
      "8 Healthy Peanut Butter Brands | Everyday Health\n",
      "\n",
      "/url?q=https://www.everydayhealth.com/diet-nutrition/healthy-peanut-butter-brands/&sa=U&ved=0ahUKEwjZz7CJ3N7eAhVMs48KHQIFAJ4QFggcMAI&usg=AOvVaw26I4uHWfTlXuLQ04YeC0ts\n",
      "\n",
      "\n",
      "Homemade Peanut Butter Recipe | Alton Brown | Food Network\n",
      "\n",
      "/url?q=https://www.foodnetwork.com/recipes/alton-brown/homemade-peanut-butter-recipe-1950478&sa=U&ved=0ahUKEwjZz7CJ3N7eAhVMs48KHQIFAJ4QFggiMAM&usg=AOvVaw1Cmuyer61wYiAIRfjyPFwh\n",
      "\n",
      "\n",
      "Alpino Natural Peanut Butter Crunch 1Kg (Unsweetened) - Amazon.in\n",
      "\n",
      "/url?q=https://www.amazon.in/Alpino-Natural-Peanut-Butter-Unsweetened/dp/B077S4V3V9&sa=U&ved=0ahUKEwjZz7CJ3N7eAhVMs48KHQIFAJ4QFggoMAQ&usg=AOvVaw302xGqIMtRzodtIa05Ns2-\n",
      "\n",
      "\n",
      "Is Peanut Butter Bad for You, or Good? A Look at the Evidence\n",
      "\n",
      "/url?q=https://www.healthline.com/nutrition/is-peanut-butter-bad-for-you&sa=U&ved=0ahUKEwjZz7CJ3N7eAhVMs48KHQIFAJ4QFgguMAU&usg=AOvVaw0VoElm1LIlptrGwCN_U6Ax\n",
      "\n",
      "\n",
      "Peanut butter - Wikipedia\n",
      "\n",
      "/url?q=https://en.wikipedia.org/wiki/Peanut_butter&sa=U&ved=0ahUKEwjZz7CJ3N7eAhVMs48KHQIFAJ4QFgg0MAY&usg=AOvVaw3GCr2nqVsDDyMopS6YMGzB\n",
      "\n",
      "\n",
      "SKIPPY® Brand Peanut Butter | Home\n",
      "\n",
      "/url?q=http://www.peanutbutter.com/&sa=U&ved=0ahUKEwjZz7CJ3N7eAhVMs48KHQIFAJ4QFgg6MAc&usg=AOvVaw1oNK_MlfRMCwyeISNLJk3L\n",
      "\n",
      "\n",
      "How to Make The Best Homemade Peanut Butter - Inspired Taste\n",
      "\n",
      "/url?q=https://www.inspiredtaste.net/21318/how-to-make-peanut-butter-three-ways/&sa=U&ved=0ahUKEwjZz7CJ3N7eAhVMs48KHQIFAJ4QFghAMAg&usg=AOvVaw1IvWzN2SJGOudKUMP9s_UB\n",
      "\n",
      "\n",
      "Nutty About Peanut Butter - WebMD\n",
      "\n",
      "/url?q=https://www.webmd.com/food-recipes/features/nutty-about-peanut-butter&sa=U&ved=0ahUKEwjZz7CJ3N7eAhVMs48KHQIFAJ4QFghHMAk&usg=AOvVaw3j7o073_n4KOJexL_GrWn0\n",
      "\n",
      "\n",
      "\n",
      "\n",
      "/url?q=https://www.gimmesomeoven.com/homemade-peanut-butter/&sa=U&ved=0ahUKEwjZz7CJ3N7eAhVMs48KHQIFAJ4QndQBCF4wCg&usg=AOvVaw1_vUiUa6GpCmJCJ6LS7fPH\n",
      "\n",
      "\n"
     ]
    }
   ],
   "source": [
    "r=requests.get(\"https://www.google.co.in/search?safe=strict&rlz=1C1GCEA_enAE806AE806&ei=fLzxW4ioBIHUvASc6bygBw&q=peanut+butter&oq=peeanut+butter&gs_l=psy-ab.3...0.0..565...0.0..0.0.0.......0......gws-wiz.8hQoPHtSNWs\")\n",
    "c=r.content\n",
    "soup=BeautifulSoup(c,\"html.parser\")\n",
    "all=soup.find_all(\"div\",{\"class\":\"g\"})\n",
    "for links in all:\n",
    "    link=links.find(\"a\")\n",
    "    print(link.text)\n",
    "    print()\n",
    "    print(link.get('href'))\n",
    "    print()\n",
    "    print()"
   ]
  },
  {
   "cell_type": "code",
   "execution_count": 48,
   "metadata": {},
   "outputs": [
    {
     "name": "stdout",
     "output_type": "stream",
     "text": [
      "[]\n"
     ]
    }
   ],
   "source": [
    "pages=soup.find_all(\"td\",{\"class\":\"cur\"})\n",
    "print(pages)"
   ]
  },
  {
   "cell_type": "code",
   "execution_count": null,
   "metadata": {},
   "outputs": [],
   "source": []
  },
  {
   "cell_type": "code",
   "execution_count": null,
   "metadata": {},
   "outputs": [],
   "source": []
  }
 ],
 "metadata": {
  "kernelspec": {
   "display_name": "Python 3",
   "language": "python",
   "name": "python3"
  },
  "language_info": {
   "codemirror_mode": {
    "name": "ipython",
    "version": 3
   },
   "file_extension": ".py",
   "mimetype": "text/x-python",
   "name": "python",
   "nbconvert_exporter": "python",
   "pygments_lexer": "ipython3",
   "version": "3.6.5"
  }
 },
 "nbformat": 4,
 "nbformat_minor": 2
}
