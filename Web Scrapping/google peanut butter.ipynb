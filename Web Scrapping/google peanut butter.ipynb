{
 "cells": [
  {
   "cell_type": "code",
   "execution_count": 2,
   "metadata": {},
   "outputs": [],
   "source": [
    "import requests\n",
    "from bs4 import BeautifulSoup"
   ]
  },
  {
   "cell_type": "code",
   "execution_count": 3,
   "metadata": {},
   "outputs": [
    {
     "name": "stdout",
     "output_type": "stream",
     "text": [
      "8 Health Benefits Of Peanut Butter | Care2 Healthy Living\n",
      "\n",
      "/url?q=https://www.care2.com/greenliving/8-health-benefits-of-peanut-butter.html&sa=U&ved=0ahUKEwicwr6xvOreAhUKu48KHZ7XDu0QFggTMAA&usg=AOvVaw1F70PheMhE8M-VOq4BrZVT\n",
      "\n",
      "\n",
      "EAT | Homemade Peanut Butter - YouTube\n",
      "\n",
      "/url?q=https://www.youtube.com/watch%3Fv%3DwOmIYNIeaSY&sa=U&ved=0ahUKEwicwr6xvOreAhUKu48KHZ7XDu0QtwIIGTAB&usg=AOvVaw3xlMjMARiHMI1izO8xfeO9\n",
      "\n",
      "\n",
      "Is Peanut Butter Bad for You, or Good? A Look at the Evidence\n",
      "\n",
      "/url?q=https://www.healthline.com/nutrition/is-peanut-butter-bad-for-you&sa=U&ved=0ahUKEwicwr6xvOreAhUKu48KHZ7XDu0QFggcMAI&usg=AOvVaw1CgsKr5YQVv7d1rQ7bvuWo\n",
      "\n",
      "\n",
      "8 Healthy Peanut Butter Brands | Everyday Health\n",
      "\n",
      "/url?q=https://www.everydayhealth.com/diet-nutrition/healthy-peanut-butter-brands/&sa=U&ved=0ahUKEwicwr6xvOreAhUKu48KHZ7XDu0QFggiMAM&usg=AOvVaw3CgmqFP1zJ_cNSlSLCx2FA\n",
      "\n",
      "\n",
      "Peanut butter - Wikipedia\n",
      "\n",
      "/url?q=https://en.wikipedia.org/wiki/Peanut_butter&sa=U&ved=0ahUKEwicwr6xvOreAhUKu48KHZ7XDu0QFggoMAQ&usg=AOvVaw3Q7SqAiRqUs5fAMyv_j1aB\n",
      "\n",
      "\n",
      "Homemade Peanut Butter Recipe | Alton Brown | Food Network\n",
      "\n",
      "/url?q=https://www.foodnetwork.com/recipes/alton-brown/homemade-peanut-butter-recipe-1950478&sa=U&ved=0ahUKEwicwr6xvOreAhUKu48KHZ7XDu0QFggzMAU&usg=AOvVaw2Urdr8shKVRcFnbNgLQT6U\n",
      "\n",
      "\n",
      "Alpino Natural Peanut Butter Crunch 1Kg (Unsweetened) - Amazon.in\n",
      "\n",
      "/url?q=https://www.amazon.in/Alpino-Natural-Peanut-Butter-Unsweetened/dp/B077S4V3V9&sa=U&ved=0ahUKEwicwr6xvOreAhUKu48KHZ7XDu0QFgg5MAY&usg=AOvVaw2FfZ1zht4SZ-EGI0-Pes2x\n",
      "\n",
      "\n",
      "News for peanut butter\n",
      "\n",
      "/search?q=peanut+butter&safe=strict&rlz=1C1GCEA_enAE806AE806&ie=UTF-8&prmd=ivns&source=univ&tbm=nws&tbo=u&sa=X&ved=0ahUKEwicwr6xvOreAhUKu48KHZ7XDu0QqAIIPw\n",
      "\n",
      "\n",
      "How to Make The Best Homemade Peanut Butter - Inspired Taste\n",
      "\n",
      "/url?q=https://www.inspiredtaste.net/21318/how-to-make-peanut-butter-three-ways/&sa=U&ved=0ahUKEwicwr6xvOreAhUKu48KHZ7XDu0QFghIMAo&usg=AOvVaw2SA0wzf-2_oSrnIF7wPWi5\n",
      "\n",
      "\n",
      "SKIPPY® Brand Peanut Butter | Home\n",
      "\n",
      "/url?q=http://www.peanutbutter.com/&sa=U&ved=0ahUKEwicwr6xvOreAhUKu48KHZ7XDu0QFghPMAs&usg=AOvVaw3zRr2B7kyUCxpDYLEU2WXe\n",
      "\n",
      "\n",
      "\n",
      "\n",
      "/url?q=https://www.gimmesomeoven.com/homemade-peanut-butter/&sa=U&ved=0ahUKEwicwr6xvOreAhUKu48KHZ7XDu0QndQBCGcwDA&usg=AOvVaw0q9C5LZh896mYrCFMowP-b\n",
      "\n",
      "\n"
     ]
    }
   ],
   "source": [
    "r=requests.get(\"https://www.google.co.in/search?safe=strict&rlz=1C1GCEA_enAE806AE806&ei=fLzxW4ioBIHUvASc6bygBw&q=peanut+butter&oq=peeanut+butter&gs_l=psy-ab.3...0.0..565...0.0..0.0.0.......0......gws-wiz.8hQoPHtSNWs\")\n",
    "c=r.content\n",
    "soup=BeautifulSoup(c,\"html.parser\")\n",
    "all=soup.find_all(\"div\",{\"class\":\"g\"})\n",
    "for links in all:\n",
    "    link=links.find(\"a\")\n",
    "    print(link.text)\n",
    "    print()\n",
    "    print(link.get('href'))\n",
    "    print()\n",
    "    print()"
   ]
  },
  {
   "cell_type": "code",
   "execution_count": 48,
   "metadata": {},
   "outputs": [
    {
     "name": "stdout",
     "output_type": "stream",
     "text": [
      "[]\n"
     ]
    }
   ],
   "source": []
  },
  {
   "cell_type": "code",
   "execution_count": null,
   "metadata": {},
   "outputs": [],
   "source": []
  },
  {
   "cell_type": "code",
   "execution_count": null,
   "metadata": {},
   "outputs": [],
   "source": []
  }
 ],
 "metadata": {
  "kernelspec": {
   "display_name": "Python 3",
   "language": "python",
   "name": "python3"
  },
  "language_info": {
   "codemirror_mode": {
    "name": "ipython",
    "version": 3
   },
   "file_extension": ".py",
   "mimetype": "text/x-python",
   "name": "python",
   "nbconvert_exporter": "python",
   "pygments_lexer": "ipython3",
   "version": "3.6.5"
  }
 },
 "nbformat": 4,
 "nbformat_minor": 2
}
